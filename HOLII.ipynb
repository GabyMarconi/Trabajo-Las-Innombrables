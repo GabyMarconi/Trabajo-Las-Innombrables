{
  "cells": [
    {
      "cell_type": "markdown",
      "source": [
        "Ejercicio 1"
      ],
      "metadata": {
        "id": "SBjfbOs5COsC"
      }
    },
    {
      "cell_type": "markdown",
      "source": [
        "Python"
      ],
      "metadata": {
        "id": "1-IdTDfGDJLS"
      }
    },
    {
      "cell_type": "code",
      "source": [
        "def calcular_mcd(a, b):\n",
        "    # Algoritmo de Euclides para calcular el MCD\n",
        "    while b != 0:\n",
        "        a, b = b, a % b\n",
        "    return a\n",
        "\n",
        "def obtener_numero_natural(mensaje):\n",
        "    while True:\n",
        "        try:\n",
        "            num = int(input(mensaje))\n",
        "            if num <= 0:\n",
        "                raise ValueError(\"El número debe ser natural (mayor que 0).\")\n",
        "            return num\n",
        "        except ValueError as e:\n",
        "            print(f\"Error: {e}. Intenta de nuevo.\")\n",
        "\n",
        "# Función principal\n",
        "def main():\n",
        "    print(\"Cálculo del Máximo Común Divisor (MCD)\")\n",
        "    num1 = obtener_numero_natural(\"Introduce el primer número natural: \")\n",
        "    num2 = obtener_numero_natural(\"Introduce el segundo número natural: \")\n",
        "\n",
        "    mcd = calcular_mcd(num1, num2)\n",
        "    print(f\"El MCD de {num1} y {num2} es: {mcd}\")\n",
        "\n",
        "# Ejecutar el programa\n",
        "if __name__ == \"__main__\":\n",
        "    main()"
      ],
      "metadata": {
        "id": "X4HtqJ_WDTlx",
        "outputId": "27baef07-5afb-4b9f-a86c-d1b6ffac3497",
        "colab": {
          "base_uri": "https://localhost:8080/"
        }
      },
      "execution_count": null,
      "outputs": [
        {
          "output_type": "stream",
          "name": "stdout",
          "text": [
            "Cálculo del Máximo Común Divisor (MCD)\n",
            "Introduce el primer número natural: 6\n",
            "Introduce el segundo número natural: 8\n",
            "El MCD de 6 y 8 es: 2\n"
          ]
        }
      ]
    }
  ],
  "metadata": {
    "colab": {
      "toc_visible": true,
      "provenance": []
    },
    "kernelspec": {
      "display_name": "Python 3",
      "name": "python3"
    }
  },
  "nbformat": 4,
  "nbformat_minor": 0
}